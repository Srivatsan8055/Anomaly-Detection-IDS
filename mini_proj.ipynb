{
 "cells": [
  {
   "cell_type": "code",
   "execution_count": 1,
   "metadata": {},
   "outputs": [],
   "source": [
    "import pandas as pd\n",
    "import numpy as np\n",
    "import seaborn as sns\n",
    "import matplotlib.pyplot as plt"
   ]
  },
  {
   "cell_type": "code",
   "execution_count": 2,
   "metadata": {},
   "outputs": [
    {
     "data": {
      "text/html": [
       "<div>\n",
       "<style scoped>\n",
       "    .dataframe tbody tr th:only-of-type {\n",
       "        vertical-align: middle;\n",
       "    }\n",
       "\n",
       "    .dataframe tbody tr th {\n",
       "        vertical-align: top;\n",
       "    }\n",
       "\n",
       "    .dataframe thead th {\n",
       "        text-align: right;\n",
       "    }\n",
       "</style>\n",
       "<table border=\"1\" class=\"dataframe\">\n",
       "  <thead>\n",
       "    <tr style=\"text-align: right;\">\n",
       "      <th></th>\n",
       "      <th>Flow_ID</th>\n",
       "      <th>Src_IP</th>\n",
       "      <th>Src_Port</th>\n",
       "      <th>Dst_IP</th>\n",
       "      <th>Dst_Port</th>\n",
       "      <th>Protocol</th>\n",
       "      <th>Timestamp</th>\n",
       "      <th>Flow_Duration</th>\n",
       "      <th>Tot_Fwd_Pkts</th>\n",
       "      <th>Tot_Bwd_Pkts</th>\n",
       "      <th>...</th>\n",
       "      <th>Active_Std</th>\n",
       "      <th>Active_Max</th>\n",
       "      <th>Active_Min</th>\n",
       "      <th>Idle_Mean</th>\n",
       "      <th>Idle_Std</th>\n",
       "      <th>Idle_Max</th>\n",
       "      <th>Idle_Min</th>\n",
       "      <th>Label</th>\n",
       "      <th>Cat</th>\n",
       "      <th>Sub_Cat</th>\n",
       "    </tr>\n",
       "  </thead>\n",
       "  <tbody>\n",
       "    <tr>\n",
       "      <th>0</th>\n",
       "      <td>192.168.0.13-192.168.0.16-10000-10101-17</td>\n",
       "      <td>192.168.0.13</td>\n",
       "      <td>10000</td>\n",
       "      <td>192.168.0.16</td>\n",
       "      <td>10101</td>\n",
       "      <td>17</td>\n",
       "      <td>25/07/2019 03:25:53 AM</td>\n",
       "      <td>75</td>\n",
       "      <td>1</td>\n",
       "      <td>1</td>\n",
       "      <td>...</td>\n",
       "      <td>0.0</td>\n",
       "      <td>0.0</td>\n",
       "      <td>0.0</td>\n",
       "      <td>75.0</td>\n",
       "      <td>0.000000</td>\n",
       "      <td>75.0</td>\n",
       "      <td>75.0</td>\n",
       "      <td>Anomaly</td>\n",
       "      <td>Mirai</td>\n",
       "      <td>Mirai-Ackflooding</td>\n",
       "    </tr>\n",
       "    <tr>\n",
       "      <th>1</th>\n",
       "      <td>192.168.0.13-222.160.179.132-554-2179-6</td>\n",
       "      <td>222.160.179.132</td>\n",
       "      <td>2179</td>\n",
       "      <td>192.168.0.13</td>\n",
       "      <td>554</td>\n",
       "      <td>6</td>\n",
       "      <td>26/05/2019 10:11:06 PM</td>\n",
       "      <td>5310</td>\n",
       "      <td>1</td>\n",
       "      <td>2</td>\n",
       "      <td>...</td>\n",
       "      <td>0.0</td>\n",
       "      <td>0.0</td>\n",
       "      <td>0.0</td>\n",
       "      <td>2655.0</td>\n",
       "      <td>2261.327486</td>\n",
       "      <td>4254.0</td>\n",
       "      <td>1056.0</td>\n",
       "      <td>Anomaly</td>\n",
       "      <td>DoS</td>\n",
       "      <td>DoS-Synflooding</td>\n",
       "    </tr>\n",
       "    <tr>\n",
       "      <th>2</th>\n",
       "      <td>192.168.0.13-192.168.0.16-9020-52727-6</td>\n",
       "      <td>192.168.0.16</td>\n",
       "      <td>52727</td>\n",
       "      <td>192.168.0.13</td>\n",
       "      <td>9020</td>\n",
       "      <td>6</td>\n",
       "      <td>11/07/2019 01:24:48 AM</td>\n",
       "      <td>141</td>\n",
       "      <td>0</td>\n",
       "      <td>3</td>\n",
       "      <td>...</td>\n",
       "      <td>0.0</td>\n",
       "      <td>0.0</td>\n",
       "      <td>0.0</td>\n",
       "      <td>70.5</td>\n",
       "      <td>0.707107</td>\n",
       "      <td>71.0</td>\n",
       "      <td>70.0</td>\n",
       "      <td>Anomaly</td>\n",
       "      <td>Scan</td>\n",
       "      <td>Scan Port OS</td>\n",
       "    </tr>\n",
       "    <tr>\n",
       "      <th>3</th>\n",
       "      <td>192.168.0.13-192.168.0.16-9020-52964-6</td>\n",
       "      <td>192.168.0.16</td>\n",
       "      <td>52964</td>\n",
       "      <td>192.168.0.13</td>\n",
       "      <td>9020</td>\n",
       "      <td>6</td>\n",
       "      <td>04/09/2019 03:58:17 AM</td>\n",
       "      <td>151</td>\n",
       "      <td>0</td>\n",
       "      <td>2</td>\n",
       "      <td>...</td>\n",
       "      <td>0.0</td>\n",
       "      <td>0.0</td>\n",
       "      <td>0.0</td>\n",
       "      <td>151.0</td>\n",
       "      <td>0.000000</td>\n",
       "      <td>151.0</td>\n",
       "      <td>151.0</td>\n",
       "      <td>Anomaly</td>\n",
       "      <td>Mirai</td>\n",
       "      <td>Mirai-Hostbruteforceg</td>\n",
       "    </tr>\n",
       "    <tr>\n",
       "      <th>4</th>\n",
       "      <td>192.168.0.1-239.255.255.250-36763-1900-17</td>\n",
       "      <td>192.168.0.1</td>\n",
       "      <td>36763</td>\n",
       "      <td>239.255.255.250</td>\n",
       "      <td>1900</td>\n",
       "      <td>17</td>\n",
       "      <td>10/09/2019 01:41:18 AM</td>\n",
       "      <td>153</td>\n",
       "      <td>2</td>\n",
       "      <td>1</td>\n",
       "      <td>...</td>\n",
       "      <td>0.0</td>\n",
       "      <td>0.0</td>\n",
       "      <td>0.0</td>\n",
       "      <td>76.5</td>\n",
       "      <td>0.707107</td>\n",
       "      <td>77.0</td>\n",
       "      <td>76.0</td>\n",
       "      <td>Anomaly</td>\n",
       "      <td>Mirai</td>\n",
       "      <td>Mirai-Hostbruteforceg</td>\n",
       "    </tr>\n",
       "  </tbody>\n",
       "</table>\n",
       "<p>5 rows × 86 columns</p>\n",
       "</div>"
      ],
      "text/plain": [
       "                                     Flow_ID           Src_IP  Src_Port  \\\n",
       "0   192.168.0.13-192.168.0.16-10000-10101-17     192.168.0.13     10000   \n",
       "1    192.168.0.13-222.160.179.132-554-2179-6  222.160.179.132      2179   \n",
       "2     192.168.0.13-192.168.0.16-9020-52727-6     192.168.0.16     52727   \n",
       "3     192.168.0.13-192.168.0.16-9020-52964-6     192.168.0.16     52964   \n",
       "4  192.168.0.1-239.255.255.250-36763-1900-17      192.168.0.1     36763   \n",
       "\n",
       "            Dst_IP  Dst_Port  Protocol               Timestamp  Flow_Duration  \\\n",
       "0     192.168.0.16     10101        17  25/07/2019 03:25:53 AM             75   \n",
       "1     192.168.0.13       554         6  26/05/2019 10:11:06 PM           5310   \n",
       "2     192.168.0.13      9020         6  11/07/2019 01:24:48 AM            141   \n",
       "3     192.168.0.13      9020         6  04/09/2019 03:58:17 AM            151   \n",
       "4  239.255.255.250      1900        17  10/09/2019 01:41:18 AM            153   \n",
       "\n",
       "   Tot_Fwd_Pkts  Tot_Bwd_Pkts  ...  Active_Std  Active_Max  Active_Min  \\\n",
       "0             1             1  ...         0.0         0.0         0.0   \n",
       "1             1             2  ...         0.0         0.0         0.0   \n",
       "2             0             3  ...         0.0         0.0         0.0   \n",
       "3             0             2  ...         0.0         0.0         0.0   \n",
       "4             2             1  ...         0.0         0.0         0.0   \n",
       "\n",
       "   Idle_Mean     Idle_Std  Idle_Max  Idle_Min    Label    Cat  \\\n",
       "0       75.0     0.000000      75.0      75.0  Anomaly  Mirai   \n",
       "1     2655.0  2261.327486    4254.0    1056.0  Anomaly    DoS   \n",
       "2       70.5     0.707107      71.0      70.0  Anomaly   Scan   \n",
       "3      151.0     0.000000     151.0     151.0  Anomaly  Mirai   \n",
       "4       76.5     0.707107      77.0      76.0  Anomaly  Mirai   \n",
       "\n",
       "                 Sub_Cat  \n",
       "0      Mirai-Ackflooding  \n",
       "1        DoS-Synflooding  \n",
       "2           Scan Port OS  \n",
       "3  Mirai-Hostbruteforceg  \n",
       "4  Mirai-Hostbruteforceg  \n",
       "\n",
       "[5 rows x 86 columns]"
      ]
     },
     "execution_count": 2,
     "metadata": {},
     "output_type": "execute_result"
    }
   ],
   "source": [
    "path = r\"C:\\Desktop\\Clg\\MINI\\IoT Network Intrusion Dataset.csv\"\n",
    "\n",
    "df = pd.read_csv(path)\n",
    "\n",
    "df.head()"
   ]
  },
  {
   "cell_type": "code",
   "execution_count": 3,
   "metadata": {},
   "outputs": [
    {
     "data": {
      "text/plain": [
       "Cat\n",
       "Mirai                415677\n",
       "Scan                  75265\n",
       "DoS                   59391\n",
       "Normal                40073\n",
       "MITM ARP Spoofing     35377\n",
       "Name: count, dtype: int64"
      ]
     },
     "execution_count": 3,
     "metadata": {},
     "output_type": "execute_result"
    }
   ],
   "source": [
    "df['Cat'].value_counts()"
   ]
  },
  {
   "cell_type": "code",
   "execution_count": 4,
   "metadata": {},
   "outputs": [
    {
     "data": {
      "text/plain": [
       "(625783, 86)"
      ]
     },
     "execution_count": 4,
     "metadata": {},
     "output_type": "execute_result"
    }
   ],
   "source": [
    "df.shape"
   ]
  },
  {
   "cell_type": "code",
   "execution_count": 5,
   "metadata": {},
   "outputs": [
    {
     "data": {
      "text/html": [
       "<div>\n",
       "<style scoped>\n",
       "    .dataframe tbody tr th:only-of-type {\n",
       "        vertical-align: middle;\n",
       "    }\n",
       "\n",
       "    .dataframe tbody tr th {\n",
       "        vertical-align: top;\n",
       "    }\n",
       "\n",
       "    .dataframe thead th {\n",
       "        text-align: right;\n",
       "    }\n",
       "</style>\n",
       "<table border=\"1\" class=\"dataframe\">\n",
       "  <thead>\n",
       "    <tr style=\"text-align: right;\">\n",
       "      <th></th>\n",
       "      <th>Flow_ID</th>\n",
       "      <th>Src_IP</th>\n",
       "      <th>Src_Port</th>\n",
       "      <th>Dst_IP</th>\n",
       "      <th>Dst_Port</th>\n",
       "      <th>Protocol</th>\n",
       "      <th>Timestamp</th>\n",
       "      <th>Flow_Duration</th>\n",
       "      <th>Tot_Fwd_Pkts</th>\n",
       "      <th>Tot_Bwd_Pkts</th>\n",
       "      <th>...</th>\n",
       "      <th>Active_Std</th>\n",
       "      <th>Active_Max</th>\n",
       "      <th>Active_Min</th>\n",
       "      <th>Idle_Mean</th>\n",
       "      <th>Idle_Std</th>\n",
       "      <th>Idle_Max</th>\n",
       "      <th>Idle_Min</th>\n",
       "      <th>Label</th>\n",
       "      <th>Cat</th>\n",
       "      <th>Sub_Cat</th>\n",
       "    </tr>\n",
       "  </thead>\n",
       "  <tbody>\n",
       "    <tr>\n",
       "      <th>1</th>\n",
       "      <td>192.168.0.13-222.160.179.132-554-2179-6</td>\n",
       "      <td>222.160.179.132</td>\n",
       "      <td>2179</td>\n",
       "      <td>192.168.0.13</td>\n",
       "      <td>554</td>\n",
       "      <td>6</td>\n",
       "      <td>26/05/2019 10:11:06 PM</td>\n",
       "      <td>5310</td>\n",
       "      <td>1</td>\n",
       "      <td>2</td>\n",
       "      <td>...</td>\n",
       "      <td>0.000000</td>\n",
       "      <td>0.0</td>\n",
       "      <td>0.0</td>\n",
       "      <td>2655.000000</td>\n",
       "      <td>2261.327486</td>\n",
       "      <td>4254.0</td>\n",
       "      <td>1056.0</td>\n",
       "      <td>Anomaly</td>\n",
       "      <td>DoS</td>\n",
       "      <td>DoS-Synflooding</td>\n",
       "    </tr>\n",
       "    <tr>\n",
       "      <th>9</th>\n",
       "      <td>192.168.0.13-111.149.163.151-554-7953-6</td>\n",
       "      <td>111.149.163.151</td>\n",
       "      <td>7953</td>\n",
       "      <td>192.168.0.13</td>\n",
       "      <td>554</td>\n",
       "      <td>6</td>\n",
       "      <td>26/05/2019 10:20:36 PM</td>\n",
       "      <td>6799</td>\n",
       "      <td>0</td>\n",
       "      <td>2</td>\n",
       "      <td>...</td>\n",
       "      <td>0.000000</td>\n",
       "      <td>0.0</td>\n",
       "      <td>0.0</td>\n",
       "      <td>6799.000000</td>\n",
       "      <td>0.000000</td>\n",
       "      <td>6799.0</td>\n",
       "      <td>6799.0</td>\n",
       "      <td>Anomaly</td>\n",
       "      <td>DoS</td>\n",
       "      <td>DoS-Synflooding</td>\n",
       "    </tr>\n",
       "    <tr>\n",
       "      <th>15</th>\n",
       "      <td>192.168.0.13-192.168.0.23-9020-44144-6</td>\n",
       "      <td>192.168.0.13</td>\n",
       "      <td>9020</td>\n",
       "      <td>192.168.0.23</td>\n",
       "      <td>44144</td>\n",
       "      <td>6</td>\n",
       "      <td>26/05/2019 10:06:28 PM</td>\n",
       "      <td>60431</td>\n",
       "      <td>5</td>\n",
       "      <td>7</td>\n",
       "      <td>...</td>\n",
       "      <td>326.401593</td>\n",
       "      <td>898.0</td>\n",
       "      <td>121.0</td>\n",
       "      <td>9708.333333</td>\n",
       "      <td>16525.220152</td>\n",
       "      <td>43394.0</td>\n",
       "      <td>1394.0</td>\n",
       "      <td>Anomaly</td>\n",
       "      <td>DoS</td>\n",
       "      <td>DoS-Synflooding</td>\n",
       "    </tr>\n",
       "    <tr>\n",
       "      <th>17</th>\n",
       "      <td>192.168.0.13-192.168.0.16-9020-49784-6</td>\n",
       "      <td>192.168.0.13</td>\n",
       "      <td>9020</td>\n",
       "      <td>192.168.0.16</td>\n",
       "      <td>49784</td>\n",
       "      <td>6</td>\n",
       "      <td>20/05/2019 04:56:32 AM</td>\n",
       "      <td>120</td>\n",
       "      <td>1</td>\n",
       "      <td>1</td>\n",
       "      <td>...</td>\n",
       "      <td>0.000000</td>\n",
       "      <td>0.0</td>\n",
       "      <td>0.0</td>\n",
       "      <td>120.000000</td>\n",
       "      <td>0.000000</td>\n",
       "      <td>120.0</td>\n",
       "      <td>120.0</td>\n",
       "      <td>Normal</td>\n",
       "      <td>Normal</td>\n",
       "      <td>Normal</td>\n",
       "    </tr>\n",
       "    <tr>\n",
       "      <th>38</th>\n",
       "      <td>192.168.0.13-222.26.224.216-554-7004-6</td>\n",
       "      <td>222.26.224.216</td>\n",
       "      <td>7004</td>\n",
       "      <td>192.168.0.13</td>\n",
       "      <td>554</td>\n",
       "      <td>6</td>\n",
       "      <td>26/05/2019 10:06:50 PM</td>\n",
       "      <td>4125</td>\n",
       "      <td>5</td>\n",
       "      <td>2</td>\n",
       "      <td>...</td>\n",
       "      <td>0.000000</td>\n",
       "      <td>1803.0</td>\n",
       "      <td>1803.0</td>\n",
       "      <td>2322.000000</td>\n",
       "      <td>0.000000</td>\n",
       "      <td>2322.0</td>\n",
       "      <td>2322.0</td>\n",
       "      <td>Anomaly</td>\n",
       "      <td>DoS</td>\n",
       "      <td>DoS-Synflooding</td>\n",
       "    </tr>\n",
       "  </tbody>\n",
       "</table>\n",
       "<p>5 rows × 86 columns</p>\n",
       "</div>"
      ],
      "text/plain": [
       "                                    Flow_ID           Src_IP  Src_Port  \\\n",
       "1   192.168.0.13-222.160.179.132-554-2179-6  222.160.179.132      2179   \n",
       "9   192.168.0.13-111.149.163.151-554-7953-6  111.149.163.151      7953   \n",
       "15   192.168.0.13-192.168.0.23-9020-44144-6     192.168.0.13      9020   \n",
       "17   192.168.0.13-192.168.0.16-9020-49784-6     192.168.0.13      9020   \n",
       "38   192.168.0.13-222.26.224.216-554-7004-6   222.26.224.216      7004   \n",
       "\n",
       "          Dst_IP  Dst_Port  Protocol               Timestamp  Flow_Duration  \\\n",
       "1   192.168.0.13       554         6  26/05/2019 10:11:06 PM           5310   \n",
       "9   192.168.0.13       554         6  26/05/2019 10:20:36 PM           6799   \n",
       "15  192.168.0.23     44144         6  26/05/2019 10:06:28 PM          60431   \n",
       "17  192.168.0.16     49784         6  20/05/2019 04:56:32 AM            120   \n",
       "38  192.168.0.13       554         6  26/05/2019 10:06:50 PM           4125   \n",
       "\n",
       "    Tot_Fwd_Pkts  Tot_Bwd_Pkts  ...  Active_Std  Active_Max  Active_Min  \\\n",
       "1              1             2  ...    0.000000         0.0         0.0   \n",
       "9              0             2  ...    0.000000         0.0         0.0   \n",
       "15             5             7  ...  326.401593       898.0       121.0   \n",
       "17             1             1  ...    0.000000         0.0         0.0   \n",
       "38             5             2  ...    0.000000      1803.0      1803.0   \n",
       "\n",
       "      Idle_Mean      Idle_Std  Idle_Max  Idle_Min    Label     Cat  \\\n",
       "1   2655.000000   2261.327486    4254.0    1056.0  Anomaly     DoS   \n",
       "9   6799.000000      0.000000    6799.0    6799.0  Anomaly     DoS   \n",
       "15  9708.333333  16525.220152   43394.0    1394.0  Anomaly     DoS   \n",
       "17   120.000000      0.000000     120.0     120.0   Normal  Normal   \n",
       "38  2322.000000      0.000000    2322.0    2322.0  Anomaly     DoS   \n",
       "\n",
       "            Sub_Cat  \n",
       "1   DoS-Synflooding  \n",
       "9   DoS-Synflooding  \n",
       "15  DoS-Synflooding  \n",
       "17           Normal  \n",
       "38  DoS-Synflooding  \n",
       "\n",
       "[5 rows x 86 columns]"
      ]
     },
     "execution_count": 5,
     "metadata": {},
     "output_type": "execute_result"
    }
   ],
   "source": [
    "df= df[df['Cat'].isin(['DoS','Normal'])]\n",
    "df.head()"
   ]
  },
  {
   "cell_type": "code",
   "execution_count": 6,
   "metadata": {},
   "outputs": [
    {
     "data": {
      "text/plain": [
       "(99464, 86)"
      ]
     },
     "execution_count": 6,
     "metadata": {},
     "output_type": "execute_result"
    }
   ],
   "source": [
    "df.shape"
   ]
  },
  {
   "cell_type": "code",
   "execution_count": 7,
   "metadata": {},
   "outputs": [
    {
     "data": {
      "text/plain": [
       "Cat\n",
       "DoS       59391\n",
       "Normal    40073\n",
       "Name: count, dtype: int64"
      ]
     },
     "execution_count": 7,
     "metadata": {},
     "output_type": "execute_result"
    }
   ],
   "source": [
    "df['Cat'].value_counts()"
   ]
  },
  {
   "cell_type": "code",
   "execution_count": 8,
   "metadata": {},
   "outputs": [
    {
     "data": {
      "text/plain": [
       "Flow_ID      object\n",
       "Src_IP       object\n",
       "Src_Port      int64\n",
       "Dst_IP       object\n",
       "Dst_Port      int64\n",
       "             ...   \n",
       "Idle_Max    float64\n",
       "Idle_Min    float64\n",
       "Label        object\n",
       "Cat          object\n",
       "Sub_Cat      object\n",
       "Length: 86, dtype: object"
      ]
     },
     "execution_count": 8,
     "metadata": {},
     "output_type": "execute_result"
    }
   ],
   "source": [
    "df.dtypes"
   ]
  },
  {
   "cell_type": "code",
   "execution_count": 9,
   "metadata": {},
   "outputs": [
    {
     "data": {
      "text/plain": [
       "Flow_ID     0\n",
       "Src_IP      0\n",
       "Src_Port    0\n",
       "Dst_IP      0\n",
       "Dst_Port    0\n",
       "           ..\n",
       "Idle_Max    0\n",
       "Idle_Min    0\n",
       "Label       0\n",
       "Cat         0\n",
       "Sub_Cat     0\n",
       "Length: 86, dtype: int64"
      ]
     },
     "execution_count": 9,
     "metadata": {},
     "output_type": "execute_result"
    }
   ],
   "source": [
    "df.isnull().sum()"
   ]
  },
  {
   "cell_type": "code",
   "execution_count": 10,
   "metadata": {},
   "outputs": [
    {
     "data": {
      "text/plain": [
       "False"
      ]
     },
     "execution_count": 10,
     "metadata": {},
     "output_type": "execute_result"
    }
   ],
   "source": [
    "check_nan = df.isnull().values.all()\n",
    "check_nan"
   ]
  },
  {
   "cell_type": "code",
   "execution_count": 11,
   "metadata": {},
   "outputs": [
    {
     "data": {
      "text/plain": [
       "['Timestamp', 'Dst_IP', 'Flow_ID', 'Src_IP', 'Sub_Cat', 'Label']"
      ]
     },
     "execution_count": 11,
     "metadata": {},
     "output_type": "execute_result"
    }
   ],
   "source": [
    "num_cols = df._get_numeric_data().columns\n",
    "\n",
    "cate_cols = list(set(df.columns)-set(num_cols))\n",
    "cate_cols.remove('Cat')\n",
    "\n",
    "cate_cols"
   ]
  },
  {
   "cell_type": "code",
   "execution_count": 12,
   "metadata": {},
   "outputs": [],
   "source": [
    "df.drop('Timestamp',axis = 1,inplace = True)\n",
    "df.drop('Src_IP',axis = 1,inplace = True)\n",
    "df.drop('Dst_IP',axis = 1,inplace = True)\n",
    "df.drop('Sub_Cat',axis = 1,inplace = True)\n",
    "df.drop('Label',axis = 1,inplace = True)\n",
    "df.drop('Flow_ID',axis = 1,inplace = True)\n"
   ]
  },
  {
   "cell_type": "code",
   "execution_count": 13,
   "metadata": {},
   "outputs": [
    {
     "data": {
      "text/html": [
       "<div>\n",
       "<style scoped>\n",
       "    .dataframe tbody tr th:only-of-type {\n",
       "        vertical-align: middle;\n",
       "    }\n",
       "\n",
       "    .dataframe tbody tr th {\n",
       "        vertical-align: top;\n",
       "    }\n",
       "\n",
       "    .dataframe thead th {\n",
       "        text-align: right;\n",
       "    }\n",
       "</style>\n",
       "<table border=\"1\" class=\"dataframe\">\n",
       "  <thead>\n",
       "    <tr style=\"text-align: right;\">\n",
       "      <th></th>\n",
       "      <th>Src_Port</th>\n",
       "      <th>Dst_Port</th>\n",
       "      <th>Protocol</th>\n",
       "      <th>Flow_Duration</th>\n",
       "      <th>Tot_Fwd_Pkts</th>\n",
       "      <th>Tot_Bwd_Pkts</th>\n",
       "      <th>TotLen_Fwd_Pkts</th>\n",
       "      <th>TotLen_Bwd_Pkts</th>\n",
       "      <th>Fwd_Pkt_Len_Max</th>\n",
       "      <th>Fwd_Pkt_Len_Min</th>\n",
       "      <th>...</th>\n",
       "      <th>Fwd_Seg_Size_Min</th>\n",
       "      <th>Active_Mean</th>\n",
       "      <th>Active_Std</th>\n",
       "      <th>Active_Max</th>\n",
       "      <th>Active_Min</th>\n",
       "      <th>Idle_Mean</th>\n",
       "      <th>Idle_Std</th>\n",
       "      <th>Idle_Max</th>\n",
       "      <th>Idle_Min</th>\n",
       "      <th>Cat</th>\n",
       "    </tr>\n",
       "  </thead>\n",
       "  <tbody>\n",
       "    <tr>\n",
       "      <th>1</th>\n",
       "      <td>2179</td>\n",
       "      <td>554</td>\n",
       "      <td>6</td>\n",
       "      <td>5310</td>\n",
       "      <td>1</td>\n",
       "      <td>2</td>\n",
       "      <td>0.0</td>\n",
       "      <td>0.0</td>\n",
       "      <td>0.0</td>\n",
       "      <td>0.0</td>\n",
       "      <td>...</td>\n",
       "      <td>0</td>\n",
       "      <td>0.0</td>\n",
       "      <td>0.000000</td>\n",
       "      <td>0.0</td>\n",
       "      <td>0.0</td>\n",
       "      <td>2655.000000</td>\n",
       "      <td>2261.327486</td>\n",
       "      <td>4254.0</td>\n",
       "      <td>1056.0</td>\n",
       "      <td>1</td>\n",
       "    </tr>\n",
       "    <tr>\n",
       "      <th>9</th>\n",
       "      <td>7953</td>\n",
       "      <td>554</td>\n",
       "      <td>6</td>\n",
       "      <td>6799</td>\n",
       "      <td>0</td>\n",
       "      <td>2</td>\n",
       "      <td>0.0</td>\n",
       "      <td>0.0</td>\n",
       "      <td>0.0</td>\n",
       "      <td>0.0</td>\n",
       "      <td>...</td>\n",
       "      <td>0</td>\n",
       "      <td>0.0</td>\n",
       "      <td>0.000000</td>\n",
       "      <td>0.0</td>\n",
       "      <td>0.0</td>\n",
       "      <td>6799.000000</td>\n",
       "      <td>0.000000</td>\n",
       "      <td>6799.0</td>\n",
       "      <td>6799.0</td>\n",
       "      <td>1</td>\n",
       "    </tr>\n",
       "    <tr>\n",
       "      <th>15</th>\n",
       "      <td>9020</td>\n",
       "      <td>44144</td>\n",
       "      <td>6</td>\n",
       "      <td>60431</td>\n",
       "      <td>5</td>\n",
       "      <td>7</td>\n",
       "      <td>5680.0</td>\n",
       "      <td>1097.0</td>\n",
       "      <td>1388.0</td>\n",
       "      <td>1041.0</td>\n",
       "      <td>...</td>\n",
       "      <td>0</td>\n",
       "      <td>443.0</td>\n",
       "      <td>326.401593</td>\n",
       "      <td>898.0</td>\n",
       "      <td>121.0</td>\n",
       "      <td>9708.333333</td>\n",
       "      <td>16525.220152</td>\n",
       "      <td>43394.0</td>\n",
       "      <td>1394.0</td>\n",
       "      <td>1</td>\n",
       "    </tr>\n",
       "    <tr>\n",
       "      <th>17</th>\n",
       "      <td>9020</td>\n",
       "      <td>49784</td>\n",
       "      <td>6</td>\n",
       "      <td>120</td>\n",
       "      <td>1</td>\n",
       "      <td>1</td>\n",
       "      <td>30.0</td>\n",
       "      <td>1388.0</td>\n",
       "      <td>30.0</td>\n",
       "      <td>30.0</td>\n",
       "      <td>...</td>\n",
       "      <td>0</td>\n",
       "      <td>0.0</td>\n",
       "      <td>0.000000</td>\n",
       "      <td>0.0</td>\n",
       "      <td>0.0</td>\n",
       "      <td>120.000000</td>\n",
       "      <td>0.000000</td>\n",
       "      <td>120.0</td>\n",
       "      <td>120.0</td>\n",
       "      <td>0</td>\n",
       "    </tr>\n",
       "    <tr>\n",
       "      <th>38</th>\n",
       "      <td>7004</td>\n",
       "      <td>554</td>\n",
       "      <td>6</td>\n",
       "      <td>4125</td>\n",
       "      <td>5</td>\n",
       "      <td>2</td>\n",
       "      <td>0.0</td>\n",
       "      <td>0.0</td>\n",
       "      <td>0.0</td>\n",
       "      <td>0.0</td>\n",
       "      <td>...</td>\n",
       "      <td>0</td>\n",
       "      <td>1803.0</td>\n",
       "      <td>0.000000</td>\n",
       "      <td>1803.0</td>\n",
       "      <td>1803.0</td>\n",
       "      <td>2322.000000</td>\n",
       "      <td>0.000000</td>\n",
       "      <td>2322.0</td>\n",
       "      <td>2322.0</td>\n",
       "      <td>1</td>\n",
       "    </tr>\n",
       "  </tbody>\n",
       "</table>\n",
       "<p>5 rows × 80 columns</p>\n",
       "</div>"
      ],
      "text/plain": [
       "    Src_Port  Dst_Port  Protocol  Flow_Duration  Tot_Fwd_Pkts  Tot_Bwd_Pkts  \\\n",
       "1       2179       554         6           5310             1             2   \n",
       "9       7953       554         6           6799             0             2   \n",
       "15      9020     44144         6          60431             5             7   \n",
       "17      9020     49784         6            120             1             1   \n",
       "38      7004       554         6           4125             5             2   \n",
       "\n",
       "    TotLen_Fwd_Pkts  TotLen_Bwd_Pkts  Fwd_Pkt_Len_Max  Fwd_Pkt_Len_Min  ...  \\\n",
       "1               0.0              0.0              0.0              0.0  ...   \n",
       "9               0.0              0.0              0.0              0.0  ...   \n",
       "15           5680.0           1097.0           1388.0           1041.0  ...   \n",
       "17             30.0           1388.0             30.0             30.0  ...   \n",
       "38              0.0              0.0              0.0              0.0  ...   \n",
       "\n",
       "    Fwd_Seg_Size_Min  Active_Mean  Active_Std  Active_Max  Active_Min  \\\n",
       "1                  0          0.0    0.000000         0.0         0.0   \n",
       "9                  0          0.0    0.000000         0.0         0.0   \n",
       "15                 0        443.0  326.401593       898.0       121.0   \n",
       "17                 0          0.0    0.000000         0.0         0.0   \n",
       "38                 0       1803.0    0.000000      1803.0      1803.0   \n",
       "\n",
       "      Idle_Mean      Idle_Std  Idle_Max  Idle_Min  Cat  \n",
       "1   2655.000000   2261.327486    4254.0    1056.0    1  \n",
       "9   6799.000000      0.000000    6799.0    6799.0    1  \n",
       "15  9708.333333  16525.220152   43394.0    1394.0    1  \n",
       "17   120.000000      0.000000     120.0     120.0    0  \n",
       "38  2322.000000      0.000000    2322.0    2322.0    1  \n",
       "\n",
       "[5 rows x 80 columns]"
      ]
     },
     "execution_count": 13,
     "metadata": {},
     "output_type": "execute_result"
    }
   ],
   "source": [
    "mydf = df.copy()\n",
    "pmap = {'DoS':1,'Normal':0}\n",
    "mydf['Cat'] = mydf['Cat'].map(pmap)\n",
    "mydf.head()"
   ]
  },
  {
   "cell_type": "code",
   "execution_count": 14,
   "metadata": {},
   "outputs": [],
   "source": [
    "def clean_dataset(df):\n",
    "    assert isinstance(df, pd.DataFrame), \"df needs to be a pd.DataFrame\"\n",
    "    df.dropna(inplace=True)\n",
    "    indices_to_keep = ~df.isin([np.nan, np.inf, -np.inf]).any(axis=1)\n",
    "    return df[indices_to_keep].astype(np.float64)\n",
    "\n",
    "mydf = clean_dataset(mydf)"
   ]
  },
  {
   "cell_type": "code",
   "execution_count": 15,
   "metadata": {},
   "outputs": [
    {
     "data": {
      "text/plain": [
       "(99464, 80)"
      ]
     },
     "execution_count": 15,
     "metadata": {},
     "output_type": "execute_result"
    }
   ],
   "source": [
    "mydf.shape"
   ]
  },
  {
   "cell_type": "code",
   "execution_count": 16,
   "metadata": {},
   "outputs": [],
   "source": [
    "def bar_graph(feature):\n",
    "    mydf[feature].value_counts().plot(kind=\"bar\")"
   ]
  },
  {
   "cell_type": "code",
   "execution_count": 17,
   "metadata": {},
   "outputs": [
    {
     "data": {
      "image/png": "[encoded data removed]",
      "text/plain": [
       "<Figure size 640x480 with 1 Axes>"
      ]
     },
     "metadata": {},
     "output_type": "display_data"
    }
   ],
   "source": [
    "bar_graph('Protocol')"
   ]
  },
  {
   "cell_type": "code",
   "execution_count": 18,
   "metadata": {},
   "outputs": [
    {
     "data": {
      "image/png": "[encoded data removed]",
      "text/plain": [
       "<Figure size 640x480 with 1 Axes>"
      ]
     },
     "metadata": {},
     "output_type": "display_data"
    }
   ],
   "source": [
    "bar_graph('Cat')"
   ]
  },
  {
   "cell_type": "code",
   "execution_count": 19,
   "metadata": {},
   "outputs": [
    {
     "data": {
      "text/plain": [
       "Index(['Src_Port', 'Dst_Port', 'Protocol', 'Flow_Duration', 'Tot_Fwd_Pkts',\n",
       "       'Tot_Bwd_Pkts', 'TotLen_Fwd_Pkts', 'TotLen_Bwd_Pkts', 'Fwd_Pkt_Len_Max',\n",
       "       'Fwd_Pkt_Len_Min', 'Fwd_Pkt_Len_Mean', 'Fwd_Pkt_Len_Std',\n",
       "       'Bwd_Pkt_Len_Max', 'Bwd_Pkt_Len_Min', 'Bwd_Pkt_Len_Mean',\n",
       "       'Bwd_Pkt_Len_Std', 'Flow_Byts/s', 'Flow_Pkts/s', 'Flow_IAT_Mean',\n",
       "       'Flow_IAT_Std', 'Flow_IAT_Max', 'Flow_IAT_Min', 'Fwd_IAT_Tot',\n",
       "       'Fwd_IAT_Mean', 'Fwd_IAT_Std', 'Fwd_IAT_Max', 'Fwd_IAT_Min',\n",
       "       'Bwd_IAT_Tot', 'Bwd_IAT_Mean', 'Bwd_IAT_Std', 'Bwd_IAT_Max',\n",
       "       'Bwd_IAT_Min', 'Fwd_PSH_Flags', 'Bwd_PSH_Flags', 'Fwd_URG_Flags',\n",
       "       'Bwd_URG_Flags', 'Fwd_Header_Len', 'Bwd_Header_Len', 'Fwd_Pkts/s',\n",
       "       'Bwd_Pkts/s', 'Pkt_Len_Min', 'Pkt_Len_Max', 'Pkt_Len_Mean',\n",
       "       'Pkt_Len_Std', 'Pkt_Len_Var', 'FIN_Flag_Cnt', 'SYN_Flag_Cnt',\n",
       "       'RST_Flag_Cnt', 'PSH_Flag_Cnt', 'ACK_Flag_Cnt', 'URG_Flag_Cnt',\n",
       "       'CWE_Flag_Count', 'ECE_Flag_Cnt', 'Down/Up_Ratio', 'Pkt_Size_Avg',\n",
       "       'Fwd_Seg_Size_Avg', 'Bwd_Seg_Size_Avg', 'Fwd_Byts/b_Avg',\n",
       "       'Fwd_Pkts/b_Avg', 'Fwd_Blk_Rate_Avg', 'Bwd_Byts/b_Avg',\n",
       "       'Bwd_Pkts/b_Avg', 'Bwd_Blk_Rate_Avg', 'Subflow_Fwd_Pkts',\n",
       "       'Subflow_Fwd_Byts', 'Subflow_Bwd_Pkts', 'Subflow_Bwd_Byts',\n",
       "       'Init_Fwd_Win_Byts', 'Init_Bwd_Win_Byts', 'Fwd_Act_Data_Pkts',\n",
       "       'Fwd_Seg_Size_Min', 'Active_Mean', 'Active_Std', 'Active_Max',\n",
       "       'Active_Min', 'Idle_Mean', 'Idle_Std', 'Idle_Max', 'Idle_Min', 'Cat'],\n",
       "      dtype='object')"
      ]
     },
     "execution_count": 19,
     "metadata": {},
     "output_type": "execute_result"
    }
   ],
   "source": [
    "mydf.columns"
   ]
  },
  {
   "cell_type": "code",
   "execution_count": 20,
   "metadata": {},
   "outputs": [
    {
     "data": {
      "text/plain": [
       "Src_Port         99464\n",
       "Dst_Port         99464\n",
       "Protocol         99464\n",
       "Flow_Duration    99464\n",
       "Tot_Fwd_Pkts     99464\n",
       "                 ...  \n",
       "Idle_Mean        99464\n",
       "Idle_Std         99464\n",
       "Idle_Max         99464\n",
       "Idle_Min         99464\n",
       "Cat              99464\n",
       "Length: 70, dtype: int64"
      ]
     },
     "execution_count": 20,
     "metadata": {},
     "output_type": "execute_result"
    }
   ],
   "source": [
    "(mydf[[col for col in mydf if mydf[col].nunique() > 1]]).count()"
   ]
  },
  {
   "cell_type": "code",
   "execution_count": 21,
   "metadata": {},
   "outputs": [
    {
     "data": {
      "image/png": "[encoded data removed]",
      "text/plain": [
       "<Figure size 1500x1200 with 2 Axes>"
      ]
     },
     "metadata": {},
     "output_type": "display_data"
    }
   ],
   "source": [
    "mydf = mydf[[col for col in mydf if mydf[col].nunique() > 1]]# keep columns where there are more than 1 unique values\n",
    "\n",
    "corr = mydf.corr()\n",
    "\n",
    "plt.figure(figsize=(15,12))\n",
    "\n",
    "sns.heatmap(corr)\n",
    "\n",
    "plt.show()"
   ]
  },
  {
   "cell_type": "code",
   "execution_count": 22,
   "metadata": {},
   "outputs": [
    {
     "data": {
      "text/plain": [
       "Protocol\n",
       "6.0     98670\n",
       "17.0      683\n",
       "0.0       111\n",
       "Name: count, dtype: int64"
      ]
     },
     "execution_count": 22,
     "metadata": {},
     "output_type": "execute_result"
    }
   ],
   "source": [
    "mydf['Protocol'].value_counts()"
   ]
  },
  {
   "cell_type": "code",
   "execution_count": 23,
   "metadata": {},
   "outputs": [],
   "source": [
    "from sklearn.model_selection import train_test_split\n",
    "from sklearn.preprocessing import MinMaxScaler\n",
    "from sklearn.metrics import accuracy_score"
   ]
  },
  {
   "cell_type": "code",
   "execution_count": 24,
   "metadata": {},
   "outputs": [
    {
     "name": "stdout",
     "output_type": "stream",
     "text": [
      "(66640, 69) (32824, 69)\n",
      "(66640, 1) (32824, 1)\n"
     ]
    }
   ],
   "source": [
    "Y = mydf[['Cat']]\n",
    "X = mydf.drop(['Cat',], axis=1)\n",
    "sc = MinMaxScaler()\n",
    "X = sc.fit_transform(X)\n",
    "# Split test and train data\n",
    "X_train, X_test, Y_train, Y_test = train_test_split(X, Y, test_size=0.33, random_state=42)\n",
    "print(X_train.shape, X_test.shape)\n",
    "print(Y_train.shape, Y_test.shape)"
   ]
  },
  {
   "cell_type": "code",
   "execution_count": null,
   "metadata": {},
   "outputs": [
    {
     "name": "stdout",
     "output_type": "stream",
     "text": [
      "Requirement already satisfied: skfeature-chappers in c:\\users\\runni\\anaconda3\\lib\\site-packages (1.1.0)\n",
      "Requirement already satisfied: scikit-learn in c:\\users\\runni\\anaconda3\\lib\\site-packages (from skfeature-chappers) (1.5.1)\n",
      "Requirement already satisfied: pandas in c:\\users\\runni\\anaconda3\\lib\\site-packages (from skfeature-chappers) (2.2.2)\n",
      "Requirement already satisfied: numpy in c:\\users\\runni\\anaconda3\\lib\\site-packages (from skfeature-chappers) (1.26.4)\n",
      "Requirement already satisfied: python-dateutil>=2.8.2 in c:\\users\\runni\\anaconda3\\lib\\site-packages (from pandas->skfeature-chappers) (2.9.0.post0)\n",
      "Requirement already satisfied: pytz>=2020.1 in c:\\users\\runni\\anaconda3\\lib\\site-packages (from pandas->skfeature-chappers) (2024.1)\n",
      "Requirement already satisfied: tzdata>=2022.7 in c:\\users\\runni\\anaconda3\\lib\\site-packages (from pandas->skfeature-chappers) (2023.3)\n",
      "Requirement already satisfied: scipy>=1.6.0 in c:\\users\\runni\\anaconda3\\lib\\site-packages (from scikit-learn->skfeature-chappers) (1.13.1)\n",
      "Requirement already satisfied: joblib>=1.2.0 in c:\\users\\runni\\anaconda3\\lib\\site-packages (from scikit-learn->skfeature-chappers) (1.4.2)\n",
      "Requirement already satisfied: threadpoolctl>=3.1.0 in c:\\users\\runni\\anaconda3\\lib\\site-packages (from scikit-learn->skfeature-chappers) (3.5.0)\n",
      "Requirement already satisfied: six>=1.5 in c:\\users\\runni\\anaconda3\\lib\\site-packages (from python-dateutil>=2.8.2->pandas->skfeature-chappers) (1.16.0)\n",
      "Note: you may need to restart the kernel to use updated packages.\n"
     ]
    }
   ],
   "source": [
    "# Install the skfeature-chappers package\n",
    "%pip install skfeature-chappers\n",
    "    \n",
    "\n",
    "from skfeature.function.statistical_based import CFS"
   ]
  },
  {
   "cell_type": "code",
   "execution_count": 40,
   "metadata": {},
   "outputs": [],
   "source": [
    "\n",
    "feature_index = CFS.cfs(X_train, Y_train) # fit on the trainset\n",
    "\n",
    "\n"
   ]
  },
  {
   "cell_type": "code",
   "execution_count": 44,
   "metadata": {},
   "outputs": [],
   "source": [
    "#Order the features from high to low with CFS Algorithm\n",
    "feature=[]\n",
    "for i in feature_index:\n",
    "  feature.append (mydf.columns[i])"
   ]
  },
  {
   "cell_type": "code",
   "execution_count": 45,
   "metadata": {},
   "outputs": [
    {
     "name": "stdout",
     "output_type": "stream",
     "text": [
      "['Idle_Min', 'Bwd_Header_Len', 'Fwd_IAT_Mean', 'TotLen_Fwd_Pkts', 'Fwd_Pkts/s', 'Flow_Pkts/s', 'Flow_IAT_Std', 'Pkt_Len_Var', 'Idle_Std', 'Fwd_IAT_Max', 'Pkt_Len_Max', 'Flow_IAT_Min', 'Flow_IAT_Mean', 'SYN_Flag_Cnt', 'Fwd_Seg_Size_Avg', 'Tot_Fwd_Pkts', 'ACK_Flag_Cnt', 'Fwd_IAT_Tot', 'Flow_IAT_Max', 'Subflow_Bwd_Pkts', 'Bwd_IAT_Max', 'Idle_Mean', 'Tot_Bwd_Pkts', 'Fwd_IAT_Std', 'Bwd_Pkt_Len_Mean', 'Pkt_Len_Mean', 'RST_Flag_Cnt', 'Active_Std', 'Bwd_PSH_Flags', 'Bwd_URG_Flags', 'Protocol', 'Subflow_Fwd_Byts', 'Fwd_Act_Data_Pkts', 'URG_Flag_Cnt', 'Fwd_IAT_Min', 'Fwd_Pkt_Len_Max', 'FIN_Flag_Cnt', 'CWE_Flag_Count', 'Bwd_IAT_Mean', 'Bwd_Pkts/s', 'Pkt_Len_Min', 'Dst_Port', 'Fwd_Pkt_Len_Min', 'Bwd_IAT_Min', 'TotLen_Bwd_Pkts', 'Bwd_Seg_Size_Avg', 'Flow_Duration', 'Idle_Max', 'Active_Min', 'Bwd_IAT_Std', 'Fwd_Pkt_Len_Mean', 'Init_Bwd_Win_Byts', 'Src_Port', 'Subflow_Fwd_Pkts', 'Down/Up_Ratio', 'Pkt_Size_Avg', 'Fwd_Pkt_Len_Std', 'Bwd_Pkt_Len_Min', 'Subflow_Bwd_Byts', 'PSH_Flag_Cnt', 'Bwd_Pkt_Len_Max', 'Active_Mean', 'ECE_Flag_Cnt', 'Pkt_Len_Std', 'Bwd_IAT_Tot', 'Bwd_Pkt_Len_Std', 'Fwd_Header_Len', 'Active_Max', 'Flow_Byts/s']\n"
     ]
    },
    {
     "data": {
      "text/plain": [
       "69"
      ]
     },
     "execution_count": 45,
     "metadata": {},
     "output_type": "execute_result"
    }
   ],
   "source": [
    "print(feature)\n",
    "len(feature)"
   ]
  },
  {
   "cell_type": "code",
   "execution_count": 46,
   "metadata": {},
   "outputs": [],
   "source": [
    "feature_cfs_train=feature[:12]"
   ]
  },
  {
   "cell_type": "code",
   "execution_count": 47,
   "metadata": {},
   "outputs": [
    {
     "name": "stdout",
     "output_type": "stream",
     "text": [
      "['Idle_Min', 'Bwd_Header_Len', 'Fwd_IAT_Mean', 'TotLen_Fwd_Pkts', 'Fwd_Pkts/s', 'Flow_Pkts/s', 'Flow_IAT_Std', 'Pkt_Len_Var', 'Idle_Std', 'Fwd_IAT_Max', 'Pkt_Len_Max', 'Flow_IAT_Min']\n"
     ]
    }
   ],
   "source": [
    "print(feature_cfs_train)"
   ]
  },
  {
   "cell_type": "code",
   "execution_count": 48,
   "metadata": {},
   "outputs": [
    {
     "name": "stdout",
     "output_type": "stream",
     "text": [
      "Collecting git+https://github.com/manuel-calzolari/sklearn-genetic.gitNote: you may need to restart the kernel to use updated packages.\n",
      "\n",
      "  Cloning https://github.com/manuel-calzolari/sklearn-genetic.git to c:\\users\\runni\\appdata\\local\\temp\\pip-req-build-_n8y0ecl\n",
      "  Resolved https://github.com/manuel-calzolari/sklearn-genetic.git to commit a50ff08b0cc4d06c1ed3100025c721568f26d1cb\n",
      "  Preparing metadata (setup.py): started\n",
      "  Preparing metadata (setup.py): finished with status 'done'\n",
      "Requirement already satisfied: scikit-learn>=1.0 in c:\\users\\runni\\anaconda3\\lib\\site-packages (from sklearn-genetic==0.6.0) (1.5.1)\n",
      "Requirement already satisfied: deap>=1.0.2 in c:\\users\\runni\\anaconda3\\lib\\site-packages (from sklearn-genetic==0.6.0) (1.4.2)\n",
      "Requirement already satisfied: numpy in c:\\users\\runni\\anaconda3\\lib\\site-packages (from sklearn-genetic==0.6.0) (1.26.4)\n",
      "Requirement already satisfied: multiprocess in c:\\users\\runni\\anaconda3\\lib\\site-packages (from sklearn-genetic==0.6.0) (0.70.18)\n",
      "Requirement already satisfied: scipy>=1.6.0 in c:\\users\\runni\\anaconda3\\lib\\site-packages (from scikit-learn>=1.0->sklearn-genetic==0.6.0) (1.13.1)\n",
      "Requirement already satisfied: joblib>=1.2.0 in c:\\users\\runni\\anaconda3\\lib\\site-packages (from scikit-learn>=1.0->sklearn-genetic==0.6.0) (1.4.2)\n",
      "Requirement already satisfied: threadpoolctl>=3.1.0 in c:\\users\\runni\\anaconda3\\lib\\site-packages (from scikit-learn>=1.0->sklearn-genetic==0.6.0) (3.5.0)\n",
      "Requirement already satisfied: dill>=0.4.0 in c:\\users\\runni\\anaconda3\\lib\\site-packages (from multiprocess->sklearn-genetic==0.6.0) (0.4.0)\n"
     ]
    },
    {
     "name": "stderr",
     "output_type": "stream",
     "text": [
      "  Running command git clone --filter=blob:none --quiet https://github.com/manuel-calzolari/sklearn-genetic.git 'C:\\Users\\runni\\AppData\\Local\\Temp\\pip-req-build-_n8y0ecl'\n"
     ]
    }
   ],
   "source": [
    "pip install git+https://github.com/manuel-calzolari/sklearn-genetic.git\n"
   ]
  },
  {
   "cell_type": "code",
   "execution_count": 80,
   "metadata": {},
   "outputs": [
    {
     "name": "stderr",
     "output_type": "stream",
     "text": [
      "c:\\Users\\runni\\anaconda3\\Lib\\site-packages\\sklearn\\utils\\validation.py:1339: DataConversionWarning: A column-vector y was passed when a 1d array was expected. Please change the shape of y to (n_samples, ), for example using ravel().\n",
      "  y = column_or_1d(y, warn=True)\n"
     ]
    },
    {
     "name": "stdout",
     "output_type": "stream",
     "text": [
      "Features: Index(['Src_Port', 'Dst_Port', 'Tot_Bwd_Pkts', 'Fwd_IAT_Min', 'Bwd_IAT_Tot',\n",
      "       'Bwd_IAT_Max', 'Bwd_Header_Len', 'URG_Flag_Cnt', 'Down/Up_Ratio',\n",
      "       'Init_Bwd_Win_Byts', 'Active_Min', 'Idle_Mean', 'Idle_Max'],\n",
      "      dtype='object')\n"
     ]
    }
   ],
   "source": [
    "from genetic_selection import GeneticSelectionCV\n",
    "from sklearn.tree import DecisionTreeClassifier\n",
    "import pandas as pd\n",
    "import numpy as np\n",
    "\n",
    "\n",
    "\n",
    "X = mydf.drop(['Cat'], axis=1)\n",
    "y = mydf[['Cat']].astype(float)\n",
    "estimator = DecisionTreeClassifier()\n",
    "model = GeneticSelectionCV(\n",
    "    estimator, cv=5, verbose=0,\n",
    "    scoring=\"accuracy\", max_features=20,\n",
    "    n_population=100, crossover_proba=0.5,\n",
    "    mutation_proba=0.2, n_generations=50,\n",
    "    crossover_independent_proba=0.5,\n",
    "    mutation_independent_proba=0.04,\n",
    "    tournament_size=3, n_gen_no_change=10,\n",
    "    caching=True, n_jobs=-1)\n",
    "model = model.fit(X, y)\n",
    "\n",
    "# print the important features using the generic algorithm\n",
    "print('Features:', X.columns[model.support_])"
   ]
  },
  {
   "cell_type": "code",
   "execution_count": 81,
   "metadata": {},
   "outputs": [
    {
     "data": {
      "text/plain": [
       "['Src_Port',\n",
       " 'Dst_Port',\n",
       " 'Tot_Bwd_Pkts',\n",
       " 'Fwd_IAT_Min',\n",
       " 'Bwd_IAT_Tot',\n",
       " 'Bwd_IAT_Max',\n",
       " 'Bwd_Header_Len',\n",
       " 'URG_Flag_Cnt',\n",
       " 'Down/Up_Ratio',\n",
       " 'Init_Bwd_Win_Byts',\n",
       " 'Active_Min',\n",
       " 'Idle_Mean',\n",
       " 'Idle_Max']"
      ]
     },
     "execution_count": 81,
     "metadata": {},
     "output_type": "execute_result"
    }
   ],
   "source": [
    "yii = X.columns[model.support_]\n",
    "tt =yii.tolist()\n",
    "tt"
   ]
  },
  {
   "cell_type": "code",
   "execution_count": 82,
   "metadata": {},
   "outputs": [],
   "source": [
    "from sklearn.tree import DecisionTreeClassifier\n",
    "import time"
   ]
  },
  {
   "cell_type": "code",
   "execution_count": null,
   "metadata": {},
   "outputs": [
    {
     "name": "stdout",
     "output_type": "stream",
     "text": [
      "Training time with all features:  0.36563658714294434\n",
      "Training time with all features:  0.058199405670166016\n",
      "With All Features:\n",
      "Accuracy: 0.9995308310991957\n",
      "Precision: 0.999484042910704\n",
      "Recall: 0.9995392954465587\n",
      "F1 Score: 0.9995116489562494\n",
      "\n",
      "Training time with CFS features:  0.15927886962890625\n",
      "Testing time with CFS features:  0.014792203903198242\n",
      "With CFS Features:\n",
      "Accuracy: 0.9993297587131368\n",
      "Precision: 0.9993161252963733\n",
      "Recall: 0.9992884802973236\n",
      "F1 Score: 0.9993022977411655\n",
      "\n",
      "Training time with GA features:  0.12158894538879395\n",
      "Testing time with GA features:  0.007853507995605469\n",
      "With GA Features:\n",
      "Accuracy: 0.9996313672922252\n",
      "Precision: 0.9996370204039082\n",
      "Recall: 0.9995955192463019\n",
      "F1 Score: 0.999616258445513\n"
     ]
    }
   ],
   "source": [
    "#Decision Tree\n",
    "\n",
    "from sklearn.model_selection import train_test_split\n",
    "from sklearn.metrics import accuracy_score,precision_score, recall_score, f1_score\n",
    "from sklearn.tree import DecisionTreeClassifier\n",
    "\n",
    "cfs_features = feature_cfs_train\n",
    "# Split the data\n",
    "X_all = mydf.drop(['Cat'], axis=1)\n",
    "y_all = mydf['Cat'].astype(float)\n",
    "\n",
    "X_train_all, X_test_all, y_train_all, y_test_all = train_test_split(X_all, y_all, test_size=0.3, random_state=42)\n",
    "\n",
    "# Model with all features\n",
    "clf_all = DecisionTreeClassifier()\n",
    "start_time1 = time.time()\n",
    "clf_all.fit(X_train_all, y_train_all)\n",
    "end_time1 = time.time()\n",
    "print(\"Training time with all features: \", end_time1-start_time1)\n",
    "start_time2 = time.time()\n",
    "pred_all = clf_all.predict(X_test_all)\n",
    "end_time2 = time.time()\n",
    "print(\"Training time with all features: \", end_time2-start_time2)\n",
    "print(\"With All Features:\")\n",
    "print(\"Accuracy:\", accuracy_score(y_test_all, pred_all))\n",
    "print(\"Precision:\", precision_score(y_test_all, pred_all, average='macro'))\n",
    "print(\"Recall:\", recall_score(y_test_all, pred_all, average='macro'))\n",
    "print(\"F1 Score:\", f1_score(y_test_all, pred_all, average='macro'))\n",
    "print()\n",
    "\n",
    "\n",
    "X_cfs = mydf[cfs_features]\n",
    "X_train_cfs, X_test_cfs, y_train_cfs, y_test_cfs = train_test_split(X_cfs, y_all, test_size=0.3, random_state=42)\n",
    "\n",
    "clf_cfs = DecisionTreeClassifier()\n",
    "start_time_cfs = time.time()\n",
    "clf_cfs.fit(X_train_cfs, y_train_cfs)\n",
    "end_time_cfs = time.time()\n",
    "print(\"Training time with CFS features: \", end_time_cfs-start_time_cfs)\n",
    "start_time_cfs = time.time()\n",
    "pred_cfs = clf_cfs.predict(X_test_cfs)\n",
    "end_time_cfs = time.time()\n",
    "print(\"Testing time with CFS features: \", end_time_cfs-start_time_cfs)\n",
    "print(\"With CFS Features:\")\n",
    "print(\"Accuracy:\", accuracy_score(y_test_cfs, pred_cfs))\n",
    "print(\"Precision:\", precision_score(y_test_cfs, pred_cfs, average='macro'))\n",
    "print(\"Recall:\", recall_score(y_test_cfs, pred_cfs, average='macro'))\n",
    "print(\"F1 Score:\", f1_score(y_test_cfs, pred_cfs, average='macro'))\n",
    "print()\n",
    "\n",
    "\n",
    "# Using GA-selected features\n",
    "ga_features = X_all.columns[model.support_]\n",
    "X_ga = mydf[ga_features]\n",
    "X_train_ga, X_test_ga, y_train_ga, y_test_ga = train_test_split(X_ga, y_all, test_size=0.3, random_state=42)\n",
    "\n",
    "clf_ga = DecisionTreeClassifier()\n",
    "start_time_ga = time.time()\n",
    "clf_ga.fit(X_train_ga, y_train_ga)\n",
    "end_time_ga = time.time()\n",
    "print(\"Training time with GA features: \", end_time_ga-start_time_ga)\n",
    "start_time_ga = time.time()\n",
    "pred_ga = clf_ga.predict(X_test_ga)\n",
    "end_time_ga = time.time()\n",
    "print(\"Testing time with GA features: \", end_time_ga-start_time_ga)\n",
    "print(\"With GA Features:\")\n",
    "print(\"Accuracy:\", accuracy_score(y_test_ga, pred_ga))\n",
    "print(\"Precision:\", precision_score(y_test_ga, pred_ga, average='macro'))\n",
    "print(\"Recall:\", recall_score(y_test_ga, pred_ga, average='macro'))\n",
    "print(\"F1 Score:\", f1_score(y_test_ga, pred_ga, average='macro'))"
   ]
  },
  {
   "cell_type": "code",
   "execution_count": 133,
   "metadata": {},
   "outputs": [
    {
     "name": "stdout",
     "output_type": "stream",
     "text": [
      "Training time with all features:  1.8397951126098633\n",
      "Testing time with all features:  0.04510354995727539\n",
      "With All Features:\n",
      "Accuracy: 0.9994638069705094\n",
      "Precision: 0.9994418536418388\n",
      "Recall: 0.9994418536418388\n",
      "F1 Score: 0.9994418536418388\n",
      "\n",
      "Training time with CFS features:  1.1255443096160889\n",
      "Testing time with CFS features:  0.0420069694519043\n",
      "With CFS Features:\n",
      "Accuracy: 0.9993632707774799\n",
      "Precision: 0.9993579240423538\n",
      "Recall: 0.9993164460672213\n",
      "F1 Score: 0.9993371736786136\n",
      "\n",
      "Training time with GA features:  0.9612274169921875\n",
      "Testing time with GA features:  0.032003164291381836\n",
      "With GA Features:\n",
      "Accuracy: 0.9995643431635389\n",
      "Precision: 0.9995810984120632\n",
      "Recall: 0.9995119141965569\n",
      "F1 Score: 0.9995464746941467\n"
     ]
    }
   ],
   "source": [
    "#Random Forest\n",
    "\n",
    "from sklearn.model_selection import train_test_split\n",
    "from sklearn.metrics import accuracy_score\n",
    "from sklearn.ensemble import RandomForestClassifier\n",
    "\n",
    "cfs_features = feature_cfs_train\n",
    "# Split the data\n",
    "X_all = mydf.drop(['Cat'], axis=1)\n",
    "y_all = mydf['Cat'].astype(float)\n",
    "\n",
    "X_train_all, X_test_all, y_train_all, y_test_all = train_test_split(X_all, y_all, test_size=0.3, random_state=42)\n",
    "\n",
    "# Model with all features\n",
    "clf_all = RandomForestClassifier(n_estimators=30)\n",
    "start_time = time.time()\n",
    "clf_all.fit(X_train_all, y_train_all)\n",
    "end_time = time.time()\n",
    "print(\"Training time with all features: \", end_time-start_time)\n",
    "start_time = time.time()\n",
    "pred_all = clf_all.predict(X_test_all)\n",
    "end_time = time.time()\n",
    "print(\"Testing time with all features: \", end_time-start_time)\n",
    "print(\"With All Features:\")\n",
    "print(\"Accuracy:\", accuracy_score(y_test_all, pred_all))\n",
    "print(\"Precision:\", precision_score(y_test_all, pred_all, average='macro'))\n",
    "print(\"Recall:\", recall_score(y_test_all, pred_all, average='macro'))\n",
    "print(\"F1 Score:\", f1_score(y_test_all, pred_all, average='macro'))\n",
    "print()\n",
    "\n",
    "X_cfs = mydf[cfs_features]\n",
    "X_train_cfs, X_test_cfs, y_train_cfs, y_test_cfs = train_test_split(X_cfs, y_all, test_size=0.3, random_state=42)\n",
    "\n",
    "clf_cfs = RandomForestClassifier(n_estimators=30)\n",
    "start_time_cfs = time.time()\n",
    "clf_cfs.fit(X_train_cfs, y_train_cfs)\n",
    "end_time_cfs = time.time()\n",
    "print(\"Training time with CFS features: \", end_time_cfs-start_time_cfs)\n",
    "start_time_cfs = time.time()\n",
    "pred_cfs = clf_cfs.predict(X_test_cfs)\n",
    "end_time_cfs = time.time()\n",
    "print(\"Testing time with CFS features: \", end_time_cfs-start_time_cfs)\n",
    "print(\"With CFS Features:\")\n",
    "print(\"Accuracy:\", accuracy_score(y_test_cfs, pred_cfs))\n",
    "print(\"Precision:\", precision_score(y_test_cfs, pred_cfs, average='macro'))\n",
    "print(\"Recall:\", recall_score(y_test_cfs, pred_cfs, average='macro'))\n",
    "print(\"F1 Score:\", f1_score(y_test_cfs, pred_cfs, average='macro'))\n",
    "print()\n",
    "\n",
    "# Using GA-selected features\n",
    "ga_features = X_all.columns[model.support_]\n",
    "X_ga = mydf[ga_features]\n",
    "X_train_ga, X_test_ga, y_train_ga, y_test_ga = train_test_split(X_ga, y_all, test_size=0.3, random_state=42)\n",
    "\n",
    "clf_ga = RandomForestClassifier(n_estimators=30)\n",
    "start_time_ga = time.time()\n",
    "clf_ga.fit(X_train_ga, y_train_ga)\n",
    "end_time_ga = time.time()\n",
    "print(\"Training time with GA features: \", end_time_ga-start_time_ga)\n",
    "start_time_ga = time.time()\n",
    "pred_ga = clf_ga.predict(X_test_ga)\n",
    "end_time_ga = time.time()\n",
    "print(\"Testing time with GA features: \", end_time_ga-start_time_ga)\n",
    "print(\"With GA Features:\")\n",
    "print(\"Accuracy:\", accuracy_score(y_test_ga, pred_ga))\n",
    "print(\"Precision:\", precision_score(y_test_ga, pred_ga, average='macro'))\n",
    "print(\"Recall:\", recall_score(y_test_ga, pred_ga, average='macro'))\n",
    "print(\"F1 Score:\", f1_score(y_test_ga, pred_ga, average='macro'))"
   ]
  },
  {
   "cell_type": "code",
   "execution_count": null,
   "metadata": {},
   "outputs": [
    {
     "name": "stdout",
     "output_type": "stream",
     "text": [
      "Training time with all features:  0.08364033699035645\n",
      "Testing time with all features:  5.535170078277588\n",
      "With All Features:\n",
      "Accuracy: 0.9982238605898124\n",
      "Precision: 0.9979675601361313\n",
      "Recall: 0.9983379363807516\n",
      "F1 Score: 0.9981518290761064\n",
      "\n",
      "Training time with CFS features:  0.20331597328186035\n",
      "Testing time with CFS features:  3.4684035778045654\n",
      "With CFS Features:\n",
      "Accuracy: 0.9980563002680966\n",
      "Precision: 0.9977731118010946\n",
      "Recall: 0.9981842707762886\n",
      "F1 Score: 0.9979775568452923\n",
      "\n",
      "Training time with GA features:  0.1734764575958252\n",
      "Testing time with GA features:  2.0847625732421875\n",
      "With GA Features:\n",
      "Accuracy: 0.9991286863270777\n",
      "Precision: 0.9990380274665402\n",
      "Recall: 0.9991483591878876\n",
      "F1 Score: 0.9990931124871785\n"
     ]
    }
   ],
   "source": [
    "#KNN\n",
    "\n",
    "from sklearn.model_selection import train_test_split\n",
    "from sklearn.metrics import accuracy_score\n",
    "from sklearn.neighbors import KNeighborsClassifier\n",
    "\n",
    "cfs_features = feature_cfs_train\n",
    "# Split the data\n",
    "X_all = mydf.drop(['Cat'], axis=1)\n",
    "y_all = mydf['Cat'].astype(float)\n",
    "\n",
    "X_train_all, X_test_all, y_train_all, y_test_all = train_test_split(X_all, y_all, test_size=0.3, random_state=42)\n",
    "\n",
    "# Model with all features\n",
    "clf_all = KNeighborsClassifier(n_neighbors=3)\n",
    "start_time = time.time()\n",
    "clf_all.fit(X_train_all, y_train_all)\n",
    "end_time = time.time()\n",
    "print(\"Training time with all features: \", end_time-start_time)\n",
    "start_time = time.time()\n",
    "pred_all = clf_all.predict(X_test_all)\n",
    "end_time = time.time()\n",
    "print(\"Testing time with all features: \", end_time-start_time)\n",
    "print(\"With All Features:\")\n",
    "print(\"Accuracy:\", accuracy_score(y_test_all, pred_all))\n",
    "print(\"Precision:\", precision_score(y_test_all, pred_all, average='macro'))\n",
    "print(\"Recall:\", recall_score(y_test_all, pred_all, average='macro'))\n",
    "print(\"F1 Score:\", f1_score(y_test_all, pred_all, average='macro'))\n",
    "print()\n",
    "\n",
    "X_cfs = mydf[cfs_features]\n",
    "X_train_cfs, X_test_cfs, y_train_cfs, y_test_cfs = train_test_split(X_cfs, y_all, test_size=0.3, random_state=42)\n",
    "\n",
    "clf_cfs = KNeighborsClassifier(n_neighbors=3)\n",
    "start_time_cfs = time.time()\n",
    "clf_cfs.fit(X_train_cfs, y_train_cfs)\n",
    "end_time_cfs = time.time()\n",
    "print(\"Training time with CFS features: \", end_time_cfs-start_time_cfs)\n",
    "start_time_cfs = time.time()\n",
    "pred_cfs = clf_cfs.predict(X_test_cfs)\n",
    "end_time_cfs = time.time()\n",
    "print(\"Testing time with CFS features: \", end_time_cfs-start_time_cfs)\n",
    "print(\"With CFS Features:\")\n",
    "print(\"Accuracy:\", accuracy_score(y_test_cfs, pred_cfs))\n",
    "print(\"Precision:\", precision_score(y_test_cfs, pred_cfs, average='macro'))\n",
    "print(\"Recall:\", recall_score(y_test_cfs, pred_cfs, average='macro'))\n",
    "print(\"F1 Score:\", f1_score(y_test_cfs, pred_cfs, average='macro'))\n",
    "print()\n",
    "\n",
    "# Using GA-selected features\n",
    "ga_features = X_all.columns[model.support_]\n",
    "X_ga = mydf[ga_features]\n",
    "X_train_ga, X_test_ga, y_train_ga, y_test_ga = train_test_split(X_ga, y_all, test_size=0.3, random_state=42)\n",
    "\n",
    "clf_ga = KNeighborsClassifier(n_neighbors=3)\n",
    "start_time_ga = time.time()\n",
    "clf_ga.fit(X_train_ga, y_train_ga)\n",
    "end_time_ga = time.time()\n",
    "print(\"Training time with GA features: \", end_time_ga-start_time_ga)\n",
    "start_time_ga = time.time()\n",
    "pred_ga = clf_ga.predict(X_test_ga)\n",
    "end_time_ga = time.time()\n",
    "print(\"Testing time with GA features: \", end_time_ga-start_time_ga)\n",
    "print(\"With GA Features:\")\n",
    "print(\"Accuracy:\", accuracy_score(y_test_ga, pred_ga))\n",
    "print(\"Precision:\", precision_score(y_test_ga, pred_ga, average='macro'))\n",
    "print(\"Recall:\", recall_score(y_test_ga, pred_ga, average='macro'))\n",
    "print(\"F1 Score:\", f1_score(y_test_ga, pred_ga, average='macro'))"
   ]
  },
  {
   "cell_type": "code",
   "execution_count": 135,
   "metadata": {},
   "outputs": [
    {
     "name": "stdout",
     "output_type": "stream",
     "text": [
      "Training time with all features:  148.31193780899048\n",
      "Testing time with all features:  50.057676792144775\n",
      "With All Features:\n",
      "Accuracy: 0.8838806970509383\n",
      "Precision: 0.9170491549842443\n",
      "Recall: 0.8557353950257235\n",
      "F1 Score: 0.871391181078961\n",
      "\n",
      "Training time with CFS features:  23.131553649902344\n",
      "Testing time with CFS features:  19.30362367630005\n",
      "With CFS Features:\n",
      "Accuracy: 0.9935321715817694\n",
      "Precision: 0.992060227085733\n",
      "Recall: 0.9946026064097544\n",
      "F1 Score: 0.9932849995127675\n",
      "\n",
      "Training time with GA features:  2.2270407676696777\n",
      "Testing time with GA features:  1.4647610187530518\n",
      "With GA Features:\n",
      "Accuracy: 0.997117962466488\n",
      "Precision: 0.9968105414950541\n",
      "Recall: 0.9971936778945316\n",
      "F1 Score: 0.997001122428887\n"
     ]
    }
   ],
   "source": [
    "#SVM\n",
    "\n",
    "from sklearn.model_selection import train_test_split\n",
    "from sklearn.metrics import accuracy_score\n",
    "from sklearn.svm import SVC\n",
    "\n",
    "cfs_features = feature_cfs_train\n",
    "# Split the data\n",
    "X_all = mydf.drop(['Cat'], axis=1)\n",
    "y_all = mydf['Cat'].astype(float)\n",
    "\n",
    "X_train_all, X_test_all, y_train_all, y_test_all = train_test_split(X_all, y_all, test_size=0.3, random_state=42)\n",
    "\n",
    "# Model with all features\n",
    "clf_all = SVC(gamma = 'scale')\n",
    "start_time = time.time()\n",
    "clf_all.fit(X_train_all, y_train_all)\n",
    "end_time = time.time()\n",
    "print(\"Training time with all features: \", end_time-start_time)\n",
    "start_time = time.time()\n",
    "pred_all = clf_all.predict(X_test_all)\n",
    "end_time = time.time()\n",
    "print(\"Testing time with all features: \", end_time-start_time)\n",
    "print(\"With All Features:\")\n",
    "print(\"Accuracy:\", accuracy_score(y_test_all, pred_all))\n",
    "print(\"Precision:\", precision_score(y_test_all, pred_all, average='macro'))\n",
    "print(\"Recall:\", recall_score(y_test_all, pred_all, average='macro'))\n",
    "print(\"F1 Score:\", f1_score(y_test_all, pred_all, average='macro'))\n",
    "print()\n",
    "\n",
    "X_cfs = mydf[cfs_features]\n",
    "X_train_cfs, X_test_cfs, y_train_cfs, y_test_cfs = train_test_split(X_cfs, y_all, test_size=0.3, random_state=42)\n",
    "\n",
    "clf_cfs = SVC(gamma = 'scale')\n",
    "start_time_cfs = time.time()\n",
    "clf_cfs.fit(X_train_cfs, y_train_cfs)\n",
    "end_time_cfs = time.time()\n",
    "print(\"Training time with CFS features: \", end_time_cfs-start_time_cfs)\n",
    "start_time_cfs = time.time()\n",
    "pred_cfs = clf_cfs.predict(X_test_cfs)\n",
    "end_time_cfs = time.time()\n",
    "print(\"Testing time with CFS features: \", end_time_cfs-start_time_cfs)\n",
    "print(\"With CFS Features:\")\n",
    "print(\"Accuracy:\", accuracy_score(y_test_cfs, pred_cfs))\n",
    "print(\"Precision:\", precision_score(y_test_cfs, pred_cfs, average='macro'))\n",
    "print(\"Recall:\", recall_score(y_test_cfs, pred_cfs, average='macro'))\n",
    "print(\"F1 Score:\", f1_score(y_test_cfs, pred_cfs, average='macro'))\n",
    "print()\n",
    "\n",
    "# Using GA-selected features\n",
    "ga_features = X_all.columns[model.support_]\n",
    "X_ga = mydf[ga_features]\n",
    "X_train_ga, X_test_ga, y_train_ga, y_test_ga = train_test_split(X_ga, y_all, test_size=0.3, random_state=42)\n",
    "\n",
    "clf_ga = SVC(gamma = 'scale')\n",
    "start_time_ga = time.time()\n",
    "clf_ga.fit(X_train_ga, y_train_ga)\n",
    "end_time_ga = time.time()\n",
    "print(\"Training time with GA features: \", end_time_ga-start_time_ga)\n",
    "start_time_ga = time.time()\n",
    "pred_ga = clf_ga.predict(X_test_ga)\n",
    "end_time_ga = time.time()\n",
    "print(\"Testing time with GA features: \", end_time_ga-start_time_ga)\n",
    "print(\"With GA Features:\")\n",
    "print(\"Accuracy:\", accuracy_score(y_test_ga, pred_ga))\n",
    "print(\"Precision:\", precision_score(y_test_ga, pred_ga, average='macro'))\n",
    "print(\"Recall:\", recall_score(y_test_ga, pred_ga, average='macro'))\n",
    "print(\"F1 Score:\", f1_score(y_test_ga, pred_ga, average='macro'))"
   ]
  },
  {
   "cell_type": "code",
   "execution_count": null,
   "metadata": {},
   "outputs": [],
   "source": []
  }
 ],
 "metadata": {
  "kernelspec": {
   "display_name": "base",
   "language": "python",
   "name": "python3"
  },
  "language_info": {
   "codemirror_mode": {
    "name": "ipython",
    "version": 3
   },
   "file_extension": ".py",
   "mimetype": "text/x-python",
   "name": "python",
   "nbconvert_exporter": "python",
   "pygments_lexer": "ipython3",
   "version": "3.12.7"
  }
 },
 "nbformat": 4,
 "nbformat_minor": 2
}
